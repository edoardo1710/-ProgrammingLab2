{
 "cells": [
  {
   "cell_type": "markdown",
   "metadata": {},
   "source": [
    "# Esercizio 1"
   ]
  },
  {
   "cell_type": "markdown",
   "metadata": {},
   "source": [
    "**La legge dei grandi numeri**"
   ]
  },
  {
   "cell_type": "code",
   "execution_count": 4,
   "metadata": {},
   "outputs": [
    {
     "name": "stdout",
     "output_type": "stream",
     "text": [
      "Provvedo alla simulazione...\n",
      "Frequenza relativa: 57.14%\n"
     ]
    }
   ],
   "source": [
    "# Scriviamo una funzione che simula il lancio di una moneta N volte e restituisce la frequenza di volte che è uscita testa\n",
    "import random\n",
    "\n",
    "def lancio_moneta(N):\n",
    "    \"\"\"\n",
    "    Parametri:\n",
    "        N (int): numero di lanci\n",
    "    \n",
    "    Output:\n",
    "        frequenza (float): frequenza in percentuale\n",
    "    \"\"\" \n",
    "    results = [random.randint(0,1) for x in range(N)]\n",
    "    head_number = results.count(1)\n",
    "\n",
    "    return (head_number / N) * 100\n",
    "\n",
    "N = int(input(\"Inserire numero di lanci: \"))\n",
    "print(\"Provvedo alla simulazione...\")\n",
    "print(f\"Frequenza relativa: {round(lancio_moneta(N),2)}%\")"
   ]
  },
  {
   "cell_type": "code",
   "execution_count": 46,
   "metadata": {},
   "outputs": [],
   "source": [
    "# Calcoliamo la frequenza con la grandezza del campione che varia 100 volte da 10 a 20000\n",
    "# Creiamo una lista di 100 elementi con il numero di lanci\n",
    "simulation_throw_1 = [random.randint(10,1000) for x in range(100)]\n",
    "simulation_throw_2 = [random.randint(10,5000) for x in range(100)]\n",
    "simulation_throw_3 = [random.randint(10,10000) for x in range(100)]\n",
    "simulation_throw_4 = [random.randint(10,20000) for x in range(100)]\n",
    "\n",
    "frequency_1 = [lancio_moneta(x) for x in simulation_throw_1]\n",
    "frequency_2 = [lancio_moneta(x) for x in simulation_throw_2]\n",
    "frequency_3 = [lancio_moneta(x) for x in simulation_throw_3]\n",
    "frequency_4 = [lancio_moneta(x) for x in simulation_throw_4]"
   ]
  },
  {
   "cell_type": "code",
   "execution_count": 1,
   "metadata": {},
   "outputs": [
    {
     "data": {
      "image/png": "[encoded data removed]",
      "text/plain": [
       "<Figure size 640x480 with 1 Axes>"
      ]
     },
     "metadata": {},
     "output_type": "display_data"
    }
   ],
   "source": [
    "\n",
    "import numpy as np\n",
    "import matplotlib.pyplot as plt\n",
    "import scipy.stats as st\n",
    "import pandas as pd\n",
    "import seaborn as sns\n",
    "\n",
    "plt.hist([1.55,1.60,1.62,1.62,1.64,1.70,1.71,1.72,1.73,1.75,1.75,1.77,1.80,1.83,1.84,1.84, 1.86, 1.87, 1.90, 1.95], range=[1.50,2.0], bins=5,  linewidth=0.5, edgecolor=\"white\");\n",
    "plt.title('distribuzione altezze')\n",
    "plt.show()\n"
   ]
  }
 ],
 "metadata": {
  "kernelspec": {
   "display_name": "mio_ambiente",
   "language": "python",
   "name": "python3"
  },
  "language_info": {
   "codemirror_mode": {
    "name": "ipython",
    "version": 3
   },
   "file_extension": ".py",
   "mimetype": "text/x-python",
   "name": "python",
   "nbconvert_exporter": "python",
   "pygments_lexer": "ipython3",
   "version": "3.12.9"
  }
 },
 "nbformat": 4,
 "nbformat_minor": 2
}
