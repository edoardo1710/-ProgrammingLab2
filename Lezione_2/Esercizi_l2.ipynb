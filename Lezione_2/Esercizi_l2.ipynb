{
 "cells": [
  {
   "cell_type": "markdown",
   "metadata": {},
   "source": [
    "# Esercizio 1"
   ]
  },
  {
   "cell_type": "markdown",
   "metadata": {},
   "source": [
    "**Indicizzazione booleana**"
   ]
  },
  {
   "cell_type": "code",
   "execution_count": 31,
   "metadata": {},
   "outputs": [
    {
     "name": "stdout",
     "output_type": "stream",
     "text": [
      "L'array è: [ 2  3  5  7 11 13 17 19]\n"
     ]
    }
   ],
   "source": [
    "# Creare un vettore con tutti i numeri primi da 0 a 20\n",
    "\n",
    "# Importiamo il modulo NumPy\n",
    "import numpy as np\n",
    "\n",
    "def is_prime(n):\n",
    "    \"\"\" Ritorna T se il numero è primo, F altrimenti\n",
    "    \n",
    "    Parametri:\n",
    "        n (int)\n",
    "\n",
    "    Output:\n",
    "        TRUE se 'n' è primo, FALSE altrimenti\n",
    "    \"\"\"\n",
    "    if (n == 0) or (n == 1):\n",
    "        return False\n",
    "    elif (n == 2) or (n == 3) or (n == 5) or (n == 7):\n",
    "        return True\n",
    "    else:\n",
    "\n",
    "        for i in range(2,int(n/2)+1):\n",
    "\n",
    "            if (n % i == 0):\n",
    "                return False\n",
    "        \n",
    "    return True\n",
    "\n",
    "# Creiamo il vettore 'prime_array' a partire da una lista\n",
    "prime_list = [x for x in range(1,21) if is_prime(x)]\n",
    "prime_array = np.array(prime_list)\n",
    "\n",
    "print(f\"L'array è: {prime_array}\")"
   ]
  },
  {
   "cell_type": "code",
   "execution_count": 32,
   "metadata": {},
   "outputs": [
    {
     "name": "stdout",
     "output_type": "stream",
     "text": [
      "Gli elementi del vettore maggiori di 10 sono: [11 13 17 19]\n"
     ]
    }
   ],
   "source": [
    "# Utilizzando un test logico, selezionare tutte le voci del vettore maggiori di 10\n",
    "\n",
    "print(f\"Gli elementi del vettore maggiori di 10 sono: {prime_array[prime_array > 10]}\")"
   ]
  },
  {
   "cell_type": "code",
   "execution_count": 33,
   "metadata": {},
   "outputs": [
    {
     "name": "stdout",
     "output_type": "stream",
     "text": [
      "I numeri primi pari contenuti nel vettore sono: [2]\n"
     ]
    }
   ],
   "source": [
    "# Utilizzando un test logico, selezionare tutti i numeri primi pari dal vettore\n",
    "\n",
    "print(f\"I numeri primi pari contenuti nel vettore sono: {prime_array[(prime_array % 2) == 0]}\")"
   ]
  },
  {
   "cell_type": "markdown",
   "metadata": {},
   "source": [
    "# Esercizio 2"
   ]
  },
  {
   "cell_type": "markdown",
   "metadata": {},
   "source": [
    "**Operazioni su array**"
   ]
  },
  {
   "cell_type": "code",
   "execution_count": 34,
   "metadata": {},
   "outputs": [
    {
     "name": "stdout",
     "output_type": "stream",
     "text": [
      "L'array 'a' è: \n",
      "[[ 1  2]\n",
      " [ 3  4]\n",
      " [ 5  6]\n",
      " [ 7  8]\n",
      " [ 9 10]]\n"
     ]
    }
   ],
   "source": [
    "# Creiamo l'array 'a' 2D\n",
    "\n",
    "a = np.array([[1,2],\n",
    "              [3,4],\n",
    "              [5,6],\n",
    "              [7,8],\n",
    "              [9,10]])\n",
    "\n",
    "print(f\"L'array 'a' è: \\n{a}\")"
   ]
  },
  {
   "cell_type": "code",
   "execution_count": 35,
   "metadata": {},
   "outputs": [
    {
     "name": "stdout",
     "output_type": "stream",
     "text": [
      "L'array 'b' è: \n",
      "[[3 4]\n",
      " [7 8]]\n",
      "L'array 'c' è: \n",
      "[5 6]\n"
     ]
    }
   ],
   "source": [
    "# Creiamo l'array 'b', contenente la seconda e quarta riga di 'a'\n",
    "\n",
    "b = a[1::2,:]\n",
    "print(f\"L'array 'b' è: \\n{b}\")\n",
    "\n",
    "# Creiamo l'array 'c', contenente la terza riga di 'a'\n",
    "\n",
    "c = a[2,:]\n",
    "print(f\"L'array 'c' è: \\n{c}\")"
   ]
  },
  {
   "cell_type": "code",
   "execution_count": 36,
   "metadata": {},
   "outputs": [
    {
     "name": "stdout",
     "output_type": "stream",
     "text": [
      "Il risultato della divisione tra l'array 'a' e l'array 'c' e: \n",
      "[[0.2        0.33333333]\n",
      " [0.6        0.66666667]\n",
      " [1.         1.        ]\n",
      " [1.4        1.33333333]\n",
      " [1.8        1.66666667]]\n"
     ]
    }
   ],
   "source": [
    "# Dividiamo ogni colonna dell'array 'a', elemento per elemento, con l'array 'c'\n",
    "\n",
    "print(f\"Il risultato della divisione tra l'array 'a' e l'array 'c' e: \\n{a / c}\")"
   ]
  },
  {
   "cell_type": "markdown",
   "metadata": {},
   "source": [
    "# Esercizio 3"
   ]
  },
  {
   "cell_type": "markdown",
   "metadata": {},
   "source": [
    "**Selezionare il numero più vicino a 0.5 in un array casuale**"
   ]
  },
  {
   "cell_type": "code",
   "execution_count": 37,
   "metadata": {},
   "outputs": [
    {
     "name": "stdout",
     "output_type": "stream",
     "text": [
      "L'array casuale generato è: \n",
      "[[0.34 0.31 0.3 ]\n",
      " [0.59 0.66 0.05]\n",
      " [0.54 0.14 0.69]\n",
      " [0.52 0.01 0.94]\n",
      " [0.66 0.77 0.49]\n",
      " [0.13 0.62 0.51]\n",
      " [0.79 0.37 0.19]\n",
      " [0.86 0.46 0.71]\n",
      " [0.99 0.3  0.38]\n",
      " [0.71 0.41 0.5 ]]\n"
     ]
    }
   ],
   "source": [
    "# Generiamo un array 10 x 3 e popoliamolo con numeri casuali compresi nell'intervallo (0,1)\n",
    "\n",
    "# Utilizziamo la funzione 'random.rand()' integrata nel modulo NumPy\n",
    "random_array = np.round(np.random.rand(10,3),2)\n",
    "print(f\"L'array casuale generato è: \\n{random_array}\")"
   ]
  },
  {
   "cell_type": "code",
   "execution_count": 38,
   "metadata": {},
   "outputs": [
    {
     "name": "stdout",
     "output_type": "stream",
     "text": [
      "Il valore più vicino a 0.5 a riga 0 è 0.34 con una differenza di 0.16\n",
      "Il valore più vicino a 0.5 a riga 1 è 0.59 con una differenza di 0.09\n",
      "Il valore più vicino a 0.5 a riga 2 è 0.54 con una differenza di 0.04\n",
      "Il valore più vicino a 0.5 a riga 3 è 0.52 con una differenza di 0.02\n",
      "Il valore più vicino a 0.5 a riga 4 è 0.49 con una differenza di 0.01\n",
      "Il valore più vicino a 0.5 a riga 5 è 0.51 con una differenza di 0.01\n",
      "Il valore più vicino a 0.5 a riga 6 è 0.37 con una differenza di 0.13\n",
      "Il valore più vicino a 0.5 a riga 7 è 0.46 con una differenza di 0.04\n",
      "Il valore più vicino a 0.5 a riga 8 è 0.38 con una differenza di 0.12\n",
      "Il valore più vicino a 0.5 a riga 9 è 0.5 con una differenza di 0.0\n"
     ]
    }
   ],
   "source": [
    "# Dobbiamo ora selezionare, per ogni riga, l'elemento più vicino a 0.5 aiutandoci col fancy indexing\n",
    "\n",
    "# Creiamo i vettori su cui 'scorreremo' le righe e le colonne della matrice\n",
    "lines = np.array(range(10))\n",
    "columns = np.array(range(3))\n",
    "\n",
    "# Importiamo il modulo 'math' per il valore assoluto\n",
    "import math\n",
    "\n",
    "# Scorriamo sulle linee\n",
    "for i in lines:\n",
    "    # In 'index_counter' sarà salvato l'indice di colonna del valore ricercato\n",
    "    index_counter = 0\n",
    "    # 'diff_btw' contiene la differenza tra 0.5 e il valore in posizione [i,j]\n",
    "    diff_btw = round(abs(0.5 - random_array[i,0]),4)\n",
    "\n",
    "    # Scorriamo sulle colonne\n",
    "    for j in columns:\n",
    "\n",
    "        if j != 0:\n",
    "\n",
    "            # Se troviamo un valore più vicino modifichiamo 'index_counter' e 'diff_btw'\n",
    "            if (diff_btw > abs(0.5 - random_array[i,j])):\n",
    "                index_counter = j\n",
    "                diff_btw = round(abs(0.5 - random_array[i,j]),4)\n",
    "            \n",
    "    print(f\"Il valore più vicino a 0.5 a riga {i} è {random_array[i,index_counter]} con una differenza di {diff_btw}\")"
   ]
  },
  {
   "cell_type": "markdown",
   "metadata": {},
   "source": [
    "# Esercizio 4"
   ]
  },
  {
   "cell_type": "markdown",
   "metadata": {},
   "source": [
    "**Analisi della Frequenza Cardiaca con NumPy**"
   ]
  },
  {
   "cell_type": "code",
   "execution_count": 39,
   "metadata": {},
   "outputs": [
    {
     "name": "stdout",
     "output_type": "stream",
     "text": [
      "L'array delle frequenze cardiache è: \n",
      "[ 68  65  77 110 160 161 162 161 160 161 162 163 164 163 162 100  90  97\n",
      "  72  60  70]\n"
     ]
    }
   ],
   "source": [
    "# Creiamo l'array che contiene i calori della frequenza cardiaca partendo da una lista\n",
    "\n",
    "fitbit_list = [68, 65, 77, 110, 160, 161, 162, 161, 160, 161, 162, 163, 164, 163, 162, 100, 90, 97, 72, 60, 70]\n",
    "fitbit_array = np.array(fitbit_list)\n",
    "\n",
    "print(f\"L'array delle frequenze cardiache è: \\n{fitbit_array}\")"
   ]
  },
  {
   "cell_type": "code",
   "execution_count": 40,
   "metadata": {},
   "outputs": [
    {
     "name": "stdout",
     "output_type": "stream",
     "text": [
      "La frequenza cardiaca minima è 60\n",
      "La frequenza cardiaca massima è 164\n"
     ]
    }
   ],
   "source": [
    "# Troviamo il valore minimo attraverso la funzione 'Min'\n",
    "\n",
    "print(f\"La frequenza cardiaca minima è {np.min(fitbit_array)}\")\n",
    "\n",
    "# Troviamo il valore massimo attraverso la funzione 'Max'\n",
    "\n",
    "print(f\"La frequenza cardiaca massima è {np.max(fitbit_array)}\")"
   ]
  },
  {
   "cell_type": "code",
   "execution_count": 41,
   "metadata": {},
   "outputs": [
    {
     "name": "stdout",
     "output_type": "stream",
     "text": [
      "Percentuale di osservazioni sopra 120 bpm: 52.38%\n"
     ]
    }
   ],
   "source": [
    "# Calcoliamo la percentuale di letture effettuate mentre si sta facendo esercizio fisico (frequenza cardiaca sopra a 120)\n",
    "\n",
    "# Creiamo l'array 'obs_boolean' per verificare quali frequenze sono maggiori a 120\n",
    "obs_boolean = fitbit_array > 120\n",
    "\n",
    "# Calcoliamo la percentuale con la funzione 'mean()' del modulo NumPy\n",
    "print(f\"Percentuale di osservazioni sopra 120 bpm: {np.round(np.mean(obs_boolean) * 100,2)}%\")"
   ]
  },
  {
   "cell_type": "markdown",
   "metadata": {},
   "source": [
    "# Esercizio 5"
   ]
  },
  {
   "cell_type": "markdown",
   "metadata": {},
   "source": [
    "**Manipolazione di vettori**"
   ]
  },
  {
   "cell_type": "code",
   "execution_count": 42,
   "metadata": {},
   "outputs": [
    {
     "name": "stdout",
     "output_type": "stream",
     "text": [
      "Il costo totale del personale è 299250$\n"
     ]
    }
   ],
   "source": [
    "# Creiamo il vettore degli stipendi e calcoliamo la somma\n",
    "\n",
    "salary = np.array([50_000, 105_250, 55_000, 89_000])\n",
    "first_sum = np.sum(salary)\n",
    "\n",
    "print(f\"Il costo totale del personale è {first_sum}$\")"
   ]
  },
  {
   "cell_type": "code",
   "execution_count": 43,
   "metadata": {},
   "outputs": [
    {
     "name": "stdout",
     "output_type": "stream",
     "text": [
      "Il nuovo stipendio del CEO è 121037$\n",
      "Il nuovo array è: [ 50000 121037  55000  89000]\n"
     ]
    }
   ],
   "source": [
    "# Aumentiamo del 15% lo stipendio più alto (maledetto CEO)\n",
    "\n",
    "# Calcoliamo l'incremento del 15% e sommiamolo allo stipendio del CEO\n",
    "increase = (salary[1] * 15) / 100\n",
    "salary[1] += increase\n",
    "\n",
    "print(f\"Il nuovo stipendio del CEO è {salary[1]}$\")\n",
    "print(f\"Il nuovo array è: {salary}\")"
   ]
  },
  {
   "cell_type": "markdown",
   "metadata": {},
   "source": [
    "Il problema nel codice precdente è che NumPy usa il tipo predefinito *int64* per gli array interi, quindi quando sommiamo il 15% al salario del CEO, il risultato viene troncato a un numero intero."
   ]
  },
  {
   "cell_type": "code",
   "execution_count": 44,
   "metadata": {},
   "outputs": [
    {
     "name": "stdout",
     "output_type": "stream",
     "text": [
      "Il nuovo stipendio del CEO è 121037.5$\n",
      "Il nuovo array è: [ 50000.  121037.5  55000.   89000. ]\n"
     ]
    }
   ],
   "source": [
    "# Ripetiamo il punto precedente utilizzando la funzione 'dtype'\n",
    "\n",
    "# Creiamo il vettore degli stipendi e calcoliamo la somma\n",
    "salary_fl = np.array([50_000, 105_250, 55_000, 89_000], dtype=np.float64)\n",
    "\n",
    "# Calcoliamo l'incremento del 15% e sommiamolo allo stipendio del CEO\n",
    "increase = (salary_fl[1] * 15) / 100\n",
    "salary_fl[1] += increase\n",
    "\n",
    "print(f\"Il nuovo stipendio del CEO è {salary_fl[1]}$\")\n",
    "print(f\"Il nuovo array è: {salary_fl}\")"
   ]
  },
  {
   "cell_type": "code",
   "execution_count": 45,
   "metadata": {},
   "outputs": [
    {
     "name": "stdout",
     "output_type": "stream",
     "text": [
      "Il nuovo stipendio del dipendente è 60000.0$\n",
      "Il nuovo array è: [ 60000.  121037.5  55000.   89000. ]\n"
     ]
    }
   ],
   "source": [
    "# Aumentiamo ora lo stipendio del primo impiegato del 20%\n",
    "\n",
    "increase = (salary_fl[0] * 20) / 100\n",
    "salary_fl[0] += increase\n",
    "\n",
    "print(f\"Il nuovo stipendio del dipendente è {salary_fl[0]}$\")\n",
    "print(f\"Il nuovo array è: {salary_fl}\")"
   ]
  },
  {
   "cell_type": "code",
   "execution_count": 46,
   "metadata": {},
   "outputs": [
    {
     "name": "stdout",
     "output_type": "stream",
     "text": [
      "Il nuovo stipendio del dipendente 2 è 60500.0$\n",
      "Il nuovo stipendio del dipendente 3 è 97900.0$\n",
      "Il nuovo array è: [ 60000.  121037.5  60500.   97900. ]\n"
     ]
    }
   ],
   "source": [
    "# Aumentiamo gli altri due stipendi del 10%\n",
    "\n",
    "for i in range(2,4):\n",
    "    increase = (salary_fl[i] * 10) / 100\n",
    "    salary_fl[i] += increase\n",
    "\n",
    "    print(f\"Il nuovo stipendio del dipendente {i} è {salary_fl[i]}$\")\n",
    "\n",
    "print(f\"Il nuovo array è: {salary_fl}\")"
   ]
  },
  {
   "cell_type": "code",
   "execution_count": 47,
   "metadata": {},
   "outputs": [
    {
     "name": "stdout",
     "output_type": "stream",
     "text": [
      "La differenza è 40187.5$\n"
     ]
    }
   ],
   "source": [
    "# Calcoliamo ora l'aumento totale degli stipendi\n",
    "\n",
    "second_sum = np.sum(salary_fl)\n",
    "\n",
    "print(f\"La differenza è {second_sum - first_sum}$\")"
   ]
  },
  {
   "cell_type": "markdown",
   "metadata": {},
   "source": [
    "# Esercizio 6"
   ]
  },
  {
   "cell_type": "markdown",
   "metadata": {},
   "source": [
    "**Valori di CO2**"
   ]
  },
  {
   "cell_type": "code",
   "execution_count": 48,
   "metadata": {},
   "outputs": [
    {
     "name": "stdout",
     "output_type": "stream",
     "text": [
      "Il path del file 'CO2_emissioni.txt' è /home/edo/Scrivania/Programmazione/Laboratorio di Programmazione/-ProgrammingLab2/Lezione_2/CO2_emissioni.txt\n"
     ]
    }
   ],
   "source": [
    "# Carichiamo il file sulle emissioni di CO2\n",
    "\n",
    "import numpy as np\n",
    "\n",
    "# Generazione di 200 valori casuali di emissioni di CO2 in tonnellate per anno \n",
    "# Supponiamo emissioni tra 4 e 20 tonnellate per persona \n",
    "co2_emissions = np.round(np.random.uniform(4, 20, 200), 2)\n",
    "\n",
    "# Nome del file di output\n",
    "output_file = \"/home/edo/Scrivania/Programmazione/Laboratorio di Programmazione/-ProgrammingLab2/Lezione_2/CO2_emissioni.txt\"\n",
    "\n",
    "# Salvataggio su file\n",
    "np.savetxt(output_file, co2_emissions, fmt=\"%.2f\")\n",
    "\n",
    "print(f\"Il path del file 'CO2_emissioni.txt' è {output_file}\")\n"
   ]
  },
  {
   "cell_type": "code",
   "execution_count": 49,
   "metadata": {},
   "outputs": [
    {
     "name": "stdout",
     "output_type": "stream",
     "text": [
      "La media dei valori sopra le 18 tonnellate è 19.0\n"
     ]
    }
   ],
   "source": [
    "# Calcoliamo quanti valori ci CO2 sono sopra la soglia di 18 tonnellate per anno ed il loro valore medio\n",
    "\n",
    "# Utilizziano la funzione 'mean' del modulo NumPy\n",
    "print(f\"La media dei valori sopra le 18 tonnellate è {np.round(np.mean(co2_emissions[co2_emissions > 18]), 2)}\")"
   ]
  },
  {
   "cell_type": "code",
   "execution_count": 50,
   "metadata": {},
   "outputs": [
    {
     "name": "stdout",
     "output_type": "stream",
     "text": [
      "La frazione totale di emissione sopra la soglia è 0.2215\n"
     ]
    }
   ],
   "source": [
    "# Calcolare la frazione totale di emissione sopra la soglia (somma totale sopra la soglia/somma totale)\n",
    "\n",
    "# Utilizziano la funzione 'mean' e 'sum' del modulo NumPy\n",
    "print(f\"La frazione totale di emissione sopra la soglia è {np.round(np.sum(co2_emissions[co2_emissions > 18]) / np.sum(co2_emissions), 4)}\")"
   ]
  },
  {
   "cell_type": "markdown",
   "metadata": {},
   "source": [
    "# Esercizio 7"
   ]
  },
  {
   "cell_type": "markdown",
   "metadata": {},
   "source": [
    "**Analisi di una matrice**"
   ]
  },
  {
   "cell_type": "code",
   "execution_count": 4,
   "metadata": {},
   "outputs": [
    {
     "name": "stdout",
     "output_type": "stream",
     "text": [
      "Matrice 'sruvey': \n",
      "[[   25 40000    10]\n",
      " [   32 52000    12]\n",
      " [   40 63000    14]\n",
      " [   29 47000    11]\n",
      " [   35 58000    13]]\n"
     ]
    }
   ],
   "source": [
    "# Creiamo la matrice 'survey contenente età, reddito e anni di istruzione di alcuni intervistati\n",
    "\n",
    "import numpy as np\n",
    "\n",
    "survey_matrix = np.array([ [25, 40000, 10], [32, 52000, 12], [40, 63000, 14], [29, 47000, 11], [35, 58000, 13] ])\n",
    "print(f\"Matrice 'sruvey': \\n{survey_matrix}\")"
   ]
  },
  {
   "cell_type": "code",
   "execution_count": 14,
   "metadata": {},
   "outputs": [
    {
     "name": "stdout",
     "output_type": "stream",
     "text": [
      "La matrice contenente i dati degli intervistati con almeno 12 anni di istruzione è: \n",
      "[[   32 52000    12]\n",
      " [   40 63000    14]\n",
      " [   35 58000    13]]\n"
     ]
    }
   ],
   "source": [
    "# selezioniamo gli intervistati con almeno 12 anni di istruzione attraverso un test logico\n",
    "\n",
    "print(f\"La matrice contenente i dati degli intervistati con almeno 12 anni di istruzione è: \\n{survey_matrix[survey_matrix[:,2] >= 12]}\")"
   ]
  },
  {
   "cell_type": "code",
   "execution_count": null,
   "metadata": {},
   "outputs": [
    {
     "name": "stdout",
     "output_type": "stream",
     "text": [
      "I redditi degli intervistati con almeno 12 anni di istruzione sono: [52000 63000 58000]\n"
     ]
    }
   ],
   "source": [
    "# Selezionare i redditi degli intervistati con almeno 12 anni di istruzione in un unica riga\n",
    "\n",
    "# Utilizziamo anche qui un test logico ma selezionando solo la seconda colonna\n",
    "print(f\"I redditi degli intervistati con almeno 12 anni di istruzione sono: {survey_matrix[:,1][survey_matrix[:,2] >= 12]}\")"
   ]
  },
  {
   "cell_type": "code",
   "execution_count": 20,
   "metadata": {},
   "outputs": [
    {
     "name": "stdout",
     "output_type": "stream",
     "text": [
      "Il reddito medio degli intervistati con almeno 12 anni di istruzione è 57666.67€\n"
     ]
    }
   ],
   "source": [
    "# Calcolare il reddito medio degli intervistati con almeno 12 anni di istruzione in un'unica riga\n",
    "\n",
    "# Utilizziamo la funzione 'sum' sul test logico fatto precedentemente\n",
    "print(f\"Il reddito medio degli intervistati con almeno 12 anni di istruzione è {np.round(np.mean(survey_matrix[:,1][survey_matrix[:,2] >= 12]),2)}€\")"
   ]
  },
  {
   "cell_type": "markdown",
   "metadata": {},
   "source": [
    "# Esercizio 8"
   ]
  },
  {
   "cell_type": "markdown",
   "metadata": {},
   "source": [
    "**Rimpiazzare gli outliers**"
   ]
  },
  {
   "cell_type": "code",
   "execution_count": 37,
   "metadata": {},
   "outputs": [
    {
     "name": "stdout",
     "output_type": "stream",
     "text": [
      "Test passato con successo\n",
      "Il cittadino più anziano ha esattamente 112 anni\n"
     ]
    }
   ],
   "source": [
    "# Generiamo l'array 'ages'\n",
    "\n",
    "# Generiamo una classe di errori personalizzati\n",
    "class Lez2Exception(Exception):\n",
    "    pass\n",
    "\n",
    "ages = np.array([92, 108, 75, 63, 62, 66, 90, 98, 97, 92, 60, 107, 90, 71, 97, 86, 55, 55,\n",
    "                 98, 57, 96, 104, 96, 94, 72, 98, 111, 98, 89, 69, 77, 92, 85, 101, 93, 100,\n",
    "                 90, 101, 96, 98, 999, 87, 106, 86, 108, 55, 67, 65, 68, 59, 67, 72, 57, 79,\n",
    "                 95, 67, 86, 70, 91, 111, 67, 75, 59, 88, 90, 99, 94, 65, 111, 103, 100, 70,\n",
    "                 63, 65, 100, 110, 999, 70, 57, 75, 56, 104, 111, 90, 74, 100, 90, 86, 88, 99,\n",
    "                 58, 103, 88, 103, 64, 96, 105, 89, 83, 65, 100, 62, 73, 105, 83, 105, 58, 96,\n",
    "                 77, 74, 95, 109, 91, 101, 91, 999, 63, 111, 97, 108, 75, 77, 73, 58, 94, 83,\n",
    "                 90, 61, 110, 107, 105, 85, 64, 66, 71, 107, 105, 72, 78, 66, 100, 102, 72, 999,\n",
    "                 74, 68, 73, 72, 90, 93, 99, 55, 92, 83, 58, 71, 89, 75, 98, 87, 999, 78,\n",
    "                 97, 71, 106, 83, 58, 81, 100, 72, 93, 70, 65, 60, 95, 107, 94, 77, 87, 90,\n",
    "                 82, 56, 99, 107, 86, 56, 73, 96, 64, 69, 64, 92, 57, 104, 110, 69, 66, 68,\n",
    "                 84, 89, 72, 80, 55, 75, 87, 57, 106, 69, 66, 62, 102, 76, 111, 999, 96, 83,\n",
    "                 84, 61, 102, 63, 107, 63, 76, 58, 83, 58, 61, 71, 77, 90, 74, 100, 103, 74,\n",
    "                 92, 102, 63, 87, 93, 61, 63, 86, 74, 98, 64, 999, 78, 95, 84, 81, 107, 85,\n",
    "                 79, 82, 89, 65, 107, 57, 74, 77, 97, 92, 58, 96, 105, 60, 55, 74, 57, 80,\n",
    "                 62, 85, 87, 62, 999, 71, 74, 70, 97, 59, 82, 96, 105, 70, 89, 105, 60, 70,\n",
    "                 87, 999, 64, 108, 107, 104, 85, 95, 108, 74, 64, 97, 89, 88, 79, 67, 81, 92,\n",
    "                 63, 80, 76, 94, 104, 67, 73, 61, 99, 96, 68, 90, 86, 79, 85, 111, 75, 98,\n",
    "                 81, 111, 108, 103, 85, 72, 108, 102, 999, 64, 107, 112, 66, 93, 89, 78, 66, 92,\n",
    "                 63, 101, 92, 64, 72, 56, 71, 64, 87, 78, 107, 85, 109, 95, 69, 111, 64, 72,\n",
    "                 55, 66, 99, 57, 78, 55, 58, 90, 88, 71, 90, 103, 92, 98, 67, 97, 77, 68,\n",
    "                 77, 59, 78, 69, 77, 81, 61, 99, 999, 85, 78, 104, 97, 95, 74, 70, 69, 83,\n",
    "                 68, 68, 77, 60, 85, 82, 93, 66, 71, 62, 64, 107, 999, 65, 78, 59, 83, 67,\n",
    "                 108,  58,  95, 106,  83,  79,  67,  59,  96,  90,  55,  55,  96, 109,  82,  55, 101,  58,\n",
    "                 97, 77, 60, 81, 999, 81, 75, 100, 66, 65, 105, 94, 101, 56, 999, 59, 105, 59,\n",
    "                 93, 56, 104, 74, 81, 62, 76, 65, 107, 60, 107, 98, 77, 86, 83, 104, 74, 69,\n",
    "                 97, 80, 91, 56, 108, 87, 65, 91, 93, 60, 91, 110, 107, 88, 96, 70, 60, 99,\n",
    "                 66, 91, 107, 65, 81, 109, 84, 106, 80, 92, 78, 84, 91, 59])\n",
    "\n",
    "# Creiamo un nuovo array in cui verranno rimosse tutte le età equivalenti a 999\n",
    "new_ages = ages[ages != 999]\n",
    "\n",
    "# Cicliamo sull'array 'new_ages' per controllare che non ci siano errori\n",
    "counter = 0\n",
    "for i in range(0,len(new_ages)):\n",
    "\n",
    "    if new_ages[i] == 999:\n",
    "        print(f\"Elemento trovato in posizione {i}\")\n",
    "        counter += 1\n",
    "\n",
    "if counter > 0:\n",
    "    raise Lez2Exception(f\"Errore: l'array 'new_ages' contiene l'elemento 999 {counter} volte, ma non dovrebbe\")\n",
    "else:\n",
    "    print(f\"Test passato con successo\")\n",
    "\n",
    "# Calcoliamo ora l'età del cittadino più anziano attraverso la funzione 'max' del modulo 'NumPy'\n",
    "print(f\"Il cittadino più anziano ha esattamente {np.max(new_ages)} anni\")\n"
   ]
  },
  {
   "cell_type": "markdown",
   "metadata": {},
   "source": [
    "# Esercizio 9"
   ]
  },
  {
   "cell_type": "markdown",
   "metadata": {},
   "source": [
    "**Generazione random di storie**"
   ]
  },
  {
   "cell_type": "code",
   "execution_count": 65,
   "metadata": {},
   "outputs": [
    {
     "name": "stdout",
     "output_type": "stream",
     "text": [
      "Indici selezionati: [12, 31, 29, 40, 3]\n",
      "Parole selezionate: ['PROVA', 'ANNUNCIO', 'BIRILLO DA BOWLING', 'VANTAGGIO', 'APPLICAZIONE']\n"
     ]
    }
   ],
   "source": [
    "# Importiamo il modulo 'rand'\n",
    "import random\n",
    "\n",
    "# Definiamo la lista 'lista_parole'\n",
    "lista_parole = [\n",
    "    'INSEDIAMENTO', 'SEPARAZIONE', 'DIFFERENZA', 'APPLICAZIONE', 'ATTEGGIAMENTO', 'VERDURA', 'IMPERO', 'RICEVIMENTO',\n",
    "    'IGNORANZA', 'BIOGRAFIA', 'VISIONE', 'AGENTE DI POLIZIA', 'PROVA', 'PRESTAZIONE', 'PRESENTAZIONE', 'PARENTE',\n",
    "    'GIUSTIFICAZIONE', 'FILOSOFIA', 'DIREZIONE', 'BENEFICIARIO', 'BATTERIA', 'CERIMONIA', 'AGONIA', 'RECUPERO',\n",
    "    'ALFABETIZZAZIONE', 'CONSEGNA', 'SERBATOIO', 'VOLONTARIO', 'DEPOSITO', 'BIRILLO DA BOWLING', 'NEMICO', 'ANNUNCIO',\n",
    "    'CARAMELLA ZUCCHERATA', 'FULMINE', 'PALLONCINO', 'COPERTA', 'SCOPERTA', 'PENALITÀ', 'GENERALE', 'ALPACA',\n",
    "    'VANTAGGIO', 'HOT DOG', 'ABITO', 'MATEMATICA', 'VARIANTE'\n",
    "]\n",
    "\n",
    "random_index = random.choices(range(len(lista_parole)), k=5)\n",
    "print(f\"Indici selezionati: {random_index}\")\n",
    "\n",
    "selected_word = [lista_parole[i] for i in random_index]\n",
    "print(f\"Parole selezionate: {selected_word}\")"
   ]
  }
 ],
 "metadata": {
  "kernelspec": {
   "display_name": "mio_ambiente",
   "language": "python",
   "name": "python3"
  },
  "language_info": {
   "codemirror_mode": {
    "name": "ipython",
    "version": 3
   },
   "file_extension": ".py",
   "mimetype": "text/x-python",
   "name": "python",
   "nbconvert_exporter": "python",
   "pygments_lexer": "ipython3",
   "version": "3.12.9"
  }
 },
 "nbformat": 4,
 "nbformat_minor": 2
}
