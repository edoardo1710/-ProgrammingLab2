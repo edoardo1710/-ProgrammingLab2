{
 "cells": [
  {
   "cell_type": "markdown",
   "metadata": {},
   "source": [
    "# Esercizio 1"
   ]
  },
  {
   "cell_type": "markdown",
   "metadata": {},
   "source": [
    "**Indicizzazione booleana**"
   ]
  },
  {
   "cell_type": "code",
   "execution_count": 31,
   "metadata": {},
   "outputs": [
    {
     "name": "stdout",
     "output_type": "stream",
     "text": [
      "L'array è: [ 2  3  5  7 11 13 17 19]\n"
     ]
    }
   ],
   "source": [
    "# Creare un vettore con tutti i numeri primi da 0 a 20\n",
    "\n",
    "# Importiamo il modulo NumPy\n",
    "import numpy as np\n",
    "\n",
    "def is_prime(n):\n",
    "    \"\"\" Ritorna T se il numero è primo, F altrimenti\n",
    "    \n",
    "    Parametri:\n",
    "        n (int)\n",
    "\n",
    "    Output:\n",
    "        TRUE se 'n' è primo, FALSE altrimenti\n",
    "    \"\"\"\n",
    "    if (n == 0) or (n == 1):\n",
    "        return False\n",
    "    elif (n == 2) or (n == 3) or (n == 5) or (n == 7):\n",
    "        return True\n",
    "    else:\n",
    "\n",
    "        for i in range(2,int(n/2)+1):\n",
    "\n",
    "            if (n % i == 0):\n",
    "                return False\n",
    "        \n",
    "    return True\n",
    "\n",
    "# Creiamo il vettore 'prime_array' a partire da una lista\n",
    "prime_list = [x for x in range(1,21) if is_prime(x)]\n",
    "prime_array = np.array(prime_list)\n",
    "\n",
    "print(f\"L'array è: {prime_array}\")"
   ]
  },
  {
   "cell_type": "code",
   "execution_count": 32,
   "metadata": {},
   "outputs": [
    {
     "name": "stdout",
     "output_type": "stream",
     "text": [
      "Gli elementi del vettore maggiori di 10 sono: [11 13 17 19]\n"
     ]
    }
   ],
   "source": [
    "# Utilizzando un test logico, selezionare tutte le voci del vettore maggiori di 10\n",
    "\n",
    "print(f\"Gli elementi del vettore maggiori di 10 sono: {prime_array[prime_array > 10]}\")"
   ]
  },
  {
   "cell_type": "code",
   "execution_count": 33,
   "metadata": {},
   "outputs": [
    {
     "name": "stdout",
     "output_type": "stream",
     "text": [
      "I numeri primi pari contenuti nel vettore sono: [2]\n"
     ]
    }
   ],
   "source": [
    "# Utilizzando un test logico, selezionare tutti i numeri primi pari dal vettore\n",
    "\n",
    "print(f\"I numeri primi pari contenuti nel vettore sono: {prime_array[(prime_array % 2) == 0]}\")"
   ]
  },
  {
   "cell_type": "markdown",
   "metadata": {},
   "source": [
    "# Esercizio 2"
   ]
  },
  {
   "cell_type": "markdown",
   "metadata": {},
   "source": [
    "**Operazioni su array**"
   ]
  },
  {
   "cell_type": "code",
   "execution_count": 34,
   "metadata": {},
   "outputs": [
    {
     "name": "stdout",
     "output_type": "stream",
     "text": [
      "L'array 'a' è: \n",
      "[[ 1  2]\n",
      " [ 3  4]\n",
      " [ 5  6]\n",
      " [ 7  8]\n",
      " [ 9 10]]\n"
     ]
    }
   ],
   "source": [
    "# Creiamo l'array 'a' 2D\n",
    "\n",
    "a = np.array([[1,2],\n",
    "              [3,4],\n",
    "              [5,6],\n",
    "              [7,8],\n",
    "              [9,10]])\n",
    "\n",
    "print(f\"L'array 'a' è: \\n{a}\")"
   ]
  },
  {
   "cell_type": "code",
   "execution_count": 35,
   "metadata": {},
   "outputs": [
    {
     "name": "stdout",
     "output_type": "stream",
     "text": [
      "L'array 'b' è: \n",
      "[[3 4]\n",
      " [7 8]]\n",
      "L'array 'c' è: \n",
      "[5 6]\n"
     ]
    }
   ],
   "source": [
    "# Creiamo l'array 'b', contenente la seconda e quarta riga di 'a'\n",
    "\n",
    "b = a[1::2,:]\n",
    "print(f\"L'array 'b' è: \\n{b}\")\n",
    "\n",
    "# Creiamo l'array 'c', contenente la terza riga di 'a'\n",
    "\n",
    "c = a[2,:]\n",
    "print(f\"L'array 'c' è: \\n{c}\")"
   ]
  },
  {
   "cell_type": "code",
   "execution_count": 36,
   "metadata": {},
   "outputs": [
    {
     "name": "stdout",
     "output_type": "stream",
     "text": [
      "Il risultato della divisione tra l'array 'a' e l'array 'c' e: \n",
      "[[0.2        0.33333333]\n",
      " [0.6        0.66666667]\n",
      " [1.         1.        ]\n",
      " [1.4        1.33333333]\n",
      " [1.8        1.66666667]]\n"
     ]
    }
   ],
   "source": [
    "# Dividiamo ogni colonna dell'array 'a', elemento per elemento, con l'array 'c'\n",
    "\n",
    "print(f\"Il risultato della divisione tra l'array 'a' e l'array 'c' e: \\n{a / c}\")"
   ]
  },
  {
   "cell_type": "markdown",
   "metadata": {},
   "source": [
    "# Esercizio 3"
   ]
  },
  {
   "cell_type": "markdown",
   "metadata": {},
   "source": [
    "**Selezionare il numero più vicino a 0.5 in un array casuale**"
   ]
  },
  {
   "cell_type": "code",
   "execution_count": 37,
   "metadata": {},
   "outputs": [
    {
     "name": "stdout",
     "output_type": "stream",
     "text": [
      "L'array casuale generato è: \n",
      "[[0.34 0.31 0.3 ]\n",
      " [0.59 0.66 0.05]\n",
      " [0.54 0.14 0.69]\n",
      " [0.52 0.01 0.94]\n",
      " [0.66 0.77 0.49]\n",
      " [0.13 0.62 0.51]\n",
      " [0.79 0.37 0.19]\n",
      " [0.86 0.46 0.71]\n",
      " [0.99 0.3  0.38]\n",
      " [0.71 0.41 0.5 ]]\n"
     ]
    }
   ],
   "source": [
    "# Generiamo un array 10 x 3 e popoliamolo con numeri casuali compresi nell'intervallo (0,1)\n",
    "\n",
    "# Utilizziamo la funzione 'random.rand()' integrata nel modulo NumPy\n",
    "random_array = np.round(np.random.rand(10,3),2)\n",
    "print(f\"L'array casuale generato è: \\n{random_array}\")"
   ]
  },
  {
   "cell_type": "code",
   "execution_count": 38,
   "metadata": {},
   "outputs": [
    {
     "name": "stdout",
     "output_type": "stream",
     "text": [
      "Il valore più vicino a 0.5 a riga 0 è 0.34 con una differenza di 0.16\n",
      "Il valore più vicino a 0.5 a riga 1 è 0.59 con una differenza di 0.09\n",
      "Il valore più vicino a 0.5 a riga 2 è 0.54 con una differenza di 0.04\n",
      "Il valore più vicino a 0.5 a riga 3 è 0.52 con una differenza di 0.02\n",
      "Il valore più vicino a 0.5 a riga 4 è 0.49 con una differenza di 0.01\n",
      "Il valore più vicino a 0.5 a riga 5 è 0.51 con una differenza di 0.01\n",
      "Il valore più vicino a 0.5 a riga 6 è 0.37 con una differenza di 0.13\n",
      "Il valore più vicino a 0.5 a riga 7 è 0.46 con una differenza di 0.04\n",
      "Il valore più vicino a 0.5 a riga 8 è 0.38 con una differenza di 0.12\n",
      "Il valore più vicino a 0.5 a riga 9 è 0.5 con una differenza di 0.0\n"
     ]
    }
   ],
   "source": [
    "# Dobbiamo ora selezionare, per ogni riga, l'elemento più vicino a 0.5 aiutandoci col fancy indexing\n",
    "\n",
    "# Creiamo i vettori su cui 'scorreremo' le righe e le colonne della matrice\n",
    "lines = np.array(range(10))\n",
    "columns = np.array(range(3))\n",
    "\n",
    "# Importiamo il modulo 'math' per il valore assoluto\n",
    "import math\n",
    "\n",
    "# Scorriamo sulle linee\n",
    "for i in lines:\n",
    "    # In 'index_counter' sarà salvato l'indice di colonna del valore ricercato\n",
    "    index_counter = 0\n",
    "    # 'diff_btw' contiene la differenza tra 0.5 e il valore in posizione [i,j]\n",
    "    diff_btw = round(abs(0.5 - random_array[i,0]),4)\n",
    "\n",
    "    # Scorriamo sulle colonne\n",
    "    for j in columns:\n",
    "\n",
    "        if j != 0:\n",
    "\n",
    "            # Se troviamo un valore più vicino modifichiamo 'index_counter' e 'diff_btw'\n",
    "            if (diff_btw > abs(0.5 - random_array[i,j])):\n",
    "                index_counter = j\n",
    "                diff_btw = round(abs(0.5 - random_array[i,j]),4)\n",
    "            \n",
    "    print(f\"Il valore più vicino a 0.5 a riga {i} è {random_array[i,index_counter]} con una differenza di {diff_btw}\")"
   ]
  },
  {
   "cell_type": "markdown",
   "metadata": {},
   "source": [
    "# Esercizio 4"
   ]
  },
  {
   "cell_type": "markdown",
   "metadata": {},
   "source": [
    "**Analisi della Frequenza Cardiaca con NumPy**"
   ]
  },
  {
   "cell_type": "code",
   "execution_count": 39,
   "metadata": {},
   "outputs": [
    {
     "name": "stdout",
     "output_type": "stream",
     "text": [
      "L'array delle frequenze cardiache è: \n",
      "[ 68  65  77 110 160 161 162 161 160 161 162 163 164 163 162 100  90  97\n",
      "  72  60  70]\n"
     ]
    }
   ],
   "source": [
    "# Creiamo l'array che contiene i calori della frequenza cardiaca partendo da una lista\n",
    "\n",
    "fitbit_list = [68, 65, 77, 110, 160, 161, 162, 161, 160, 161, 162, 163, 164, 163, 162, 100, 90, 97, 72, 60, 70]\n",
    "fitbit_array = np.array(fitbit_list)\n",
    "\n",
    "print(f\"L'array delle frequenze cardiache è: \\n{fitbit_array}\")"
   ]
  },
  {
   "cell_type": "code",
   "execution_count": 40,
   "metadata": {},
   "outputs": [
    {
     "name": "stdout",
     "output_type": "stream",
     "text": [
      "La frequenza cardiaca minima è 60\n",
      "La frequenza cardiaca massima è 164\n"
     ]
    }
   ],
   "source": [
    "# Troviamo il valore minimo attraverso la funzione 'Min'\n",
    "\n",
    "print(f\"La frequenza cardiaca minima è {np.min(fitbit_array)}\")\n",
    "\n",
    "# Troviamo il valore massimo attraverso la funzione 'Max'\n",
    "\n",
    "print(f\"La frequenza cardiaca massima è {np.max(fitbit_array)}\")"
   ]
  },
  {
   "cell_type": "code",
   "execution_count": 41,
   "metadata": {},
   "outputs": [
    {
     "name": "stdout",
     "output_type": "stream",
     "text": [
      "Percentuale di osservazioni sopra 120 bpm: 52.38%\n"
     ]
    }
   ],
   "source": [
    "# Calcoliamo la percentuale di letture effettuate mentre si sta facendo esercizio fisico (frequenza cardiaca sopra a 120)\n",
    "\n",
    "# Creiamo l'array 'obs_boolean' per verificare quali frequenze sono maggiori a 120\n",
    "obs_boolean = fitbit_array > 120\n",
    "\n",
    "# Calcoliamo la percentuale con la funzione 'mean()' del modulo NumPy\n",
    "print(f\"Percentuale di osservazioni sopra 120 bpm: {np.round(np.mean(obs_boolean) * 100,2)}%\")"
   ]
  },
  {
   "cell_type": "markdown",
   "metadata": {},
   "source": [
    "# Esercizio 5"
   ]
  },
  {
   "cell_type": "markdown",
   "metadata": {},
   "source": [
    "**Manipolazione di vettori**"
   ]
  },
  {
   "cell_type": "code",
   "execution_count": 42,
   "metadata": {},
   "outputs": [
    {
     "name": "stdout",
     "output_type": "stream",
     "text": [
      "Il costo totale del personale è 299250$\n"
     ]
    }
   ],
   "source": [
    "# Creiamo il vettore degli stipendi e calcoliamo la somma\n",
    "\n",
    "salary = np.array([50_000, 105_250, 55_000, 89_000])\n",
    "first_sum = np.sum(salary)\n",
    "\n",
    "print(f\"Il costo totale del personale è {first_sum}$\")"
   ]
  },
  {
   "cell_type": "code",
   "execution_count": 43,
   "metadata": {},
   "outputs": [
    {
     "name": "stdout",
     "output_type": "stream",
     "text": [
      "Il nuovo stipendio del CEO è 121037$\n",
      "Il nuovo array è: [ 50000 121037  55000  89000]\n"
     ]
    }
   ],
   "source": [
    "# Aumentiamo del 15% lo stipendio più alto (maledetto CEO)\n",
    "\n",
    "# Calcoliamo l'incremento del 15% e sommiamolo allo stipendio del CEO\n",
    "increase = (salary[1] * 15) / 100\n",
    "salary[1] += increase\n",
    "\n",
    "print(f\"Il nuovo stipendio del CEO è {salary[1]}$\")\n",
    "print(f\"Il nuovo array è: {salary}\")"
   ]
  },
  {
   "cell_type": "markdown",
   "metadata": {},
   "source": [
    "Il problema nel codice precdente è che NumPy usa il tipo predefinito *int64* per gli array interi, quindi quando sommiamo il 15% al salario del CEO, il risultato viene troncato a un numero intero."
   ]
  },
  {
   "cell_type": "code",
   "execution_count": 44,
   "metadata": {},
   "outputs": [
    {
     "name": "stdout",
     "output_type": "stream",
     "text": [
      "Il nuovo stipendio del CEO è 121037.5$\n",
      "Il nuovo array è: [ 50000.  121037.5  55000.   89000. ]\n"
     ]
    }
   ],
   "source": [
    "# Ripetiamo il punto precedente utilizzando la funzione 'dtype'\n",
    "\n",
    "# Creiamo il vettore degli stipendi e calcoliamo la somma\n",
    "salary_fl = np.array([50_000, 105_250, 55_000, 89_000], dtype=np.float64)\n",
    "\n",
    "# Calcoliamo l'incremento del 15% e sommiamolo allo stipendio del CEO\n",
    "increase = (salary_fl[1] * 15) / 100\n",
    "salary_fl[1] += increase\n",
    "\n",
    "print(f\"Il nuovo stipendio del CEO è {salary_fl[1]}$\")\n",
    "print(f\"Il nuovo array è: {salary_fl}\")"
   ]
  },
  {
   "cell_type": "code",
   "execution_count": 45,
   "metadata": {},
   "outputs": [
    {
     "name": "stdout",
     "output_type": "stream",
     "text": [
      "Il nuovo stipendio del dipendente è 60000.0$\n",
      "Il nuovo array è: [ 60000.  121037.5  55000.   89000. ]\n"
     ]
    }
   ],
   "source": [
    "# Aumentiamo ora lo stipendio del primo impiegato del 20%\n",
    "\n",
    "increase = (salary_fl[0] * 20) / 100\n",
    "salary_fl[0] += increase\n",
    "\n",
    "print(f\"Il nuovo stipendio del dipendente è {salary_fl[0]}$\")\n",
    "print(f\"Il nuovo array è: {salary_fl}\")"
   ]
  },
  {
   "cell_type": "code",
   "execution_count": 46,
   "metadata": {},
   "outputs": [
    {
     "name": "stdout",
     "output_type": "stream",
     "text": [
      "Il nuovo stipendio del dipendente 2 è 60500.0$\n",
      "Il nuovo stipendio del dipendente 3 è 97900.0$\n",
      "Il nuovo array è: [ 60000.  121037.5  60500.   97900. ]\n"
     ]
    }
   ],
   "source": [
    "# Aumentiamo gli altri due stipendi del 10%\n",
    "\n",
    "for i in range(2,4):\n",
    "    increase = (salary_fl[i] * 10) / 100\n",
    "    salary_fl[i] += increase\n",
    "\n",
    "    print(f\"Il nuovo stipendio del dipendente {i} è {salary_fl[i]}$\")\n",
    "\n",
    "print(f\"Il nuovo array è: {salary_fl}\")"
   ]
  },
  {
   "cell_type": "code",
   "execution_count": 47,
   "metadata": {},
   "outputs": [
    {
     "name": "stdout",
     "output_type": "stream",
     "text": [
      "La differenza è 40187.5$\n"
     ]
    }
   ],
   "source": [
    "# Calcoliamo ora l'aumento totale degli stipendi\n",
    "\n",
    "second_sum = np.sum(salary_fl)\n",
    "\n",
    "print(f\"La differenza è {second_sum - first_sum}$\")"
   ]
  },
  {
   "cell_type": "markdown",
   "metadata": {},
   "source": [
    "# Esercizio 6"
   ]
  },
  {
   "cell_type": "markdown",
   "metadata": {},
   "source": [
    "**Valori di CO2**"
   ]
  },
  {
   "cell_type": "code",
   "execution_count": 48,
   "metadata": {},
   "outputs": [
    {
     "name": "stdout",
     "output_type": "stream",
     "text": [
      "Il path del file 'CO2_emissioni.txt' è /home/edo/Scrivania/Programmazione/Laboratorio di Programmazione/-ProgrammingLab2/Lezione_2/CO2_emissioni.txt\n"
     ]
    }
   ],
   "source": [
    "# Carichiamo il file sulle emissioni di CO2\n",
    "\n",
    "import numpy as np\n",
    "\n",
    "# Generazione di 200 valori casuali di emissioni di CO2 in tonnellate per anno \n",
    "# Supponiamo emissioni tra 4 e 20 tonnellate per persona \n",
    "co2_emissions = np.round(np.random.uniform(4, 20, 200), 2)\n",
    "\n",
    "# Nome del file di output\n",
    "output_file = \"/home/edo/Scrivania/Programmazione/Laboratorio di Programmazione/-ProgrammingLab2/Lezione_2/CO2_emissioni.txt\"\n",
    "\n",
    "# Salvataggio su file\n",
    "np.savetxt(output_file, co2_emissions, fmt=\"%.2f\")\n",
    "\n",
    "print(f\"Il path del file 'CO2_emissioni.txt' è {output_file}\")\n"
   ]
  },
  {
   "cell_type": "code",
   "execution_count": 49,
   "metadata": {},
   "outputs": [
    {
     "name": "stdout",
     "output_type": "stream",
     "text": [
      "La media dei valori sopra le 18 tonnellate è 19.0\n"
     ]
    }
   ],
   "source": [
    "# Calcoliamo quanti valori ci CO2 sono sopra la soglia di 18 tonnellate per anno ed il loro valore medio\n",
    "\n",
    "# Utilizziano la funzione 'mean' del modulo NumPy\n",
    "print(f\"La media dei valori sopra le 18 tonnellate è {np.round(np.mean(co2_emissions[co2_emissions > 18]), 2)}\")"
   ]
  },
  {
   "cell_type": "code",
   "execution_count": 50,
   "metadata": {},
   "outputs": [
    {
     "name": "stdout",
     "output_type": "stream",
     "text": [
      "La frazione totale di emissione sopra la soglia è 0.2215\n"
     ]
    }
   ],
   "source": [
    "# Calcolare la frazione totale di emissione sopra la soglia (somma totale sopra la soglia/somma totale)\n",
    "\n",
    "# Utilizziano la funzione 'mean' e 'sum' del modulo NumPy\n",
    "print(f\"La frazione totale di emissione sopra la soglia è {np.round(np.sum(co2_emissions[co2_emissions > 18]) / np.sum(co2_emissions), 4)}\")"
   ]
  }
 ],
 "metadata": {
  "kernelspec": {
   "display_name": "mio_ambiente",
   "language": "python",
   "name": "python3"
  },
  "language_info": {
   "codemirror_mode": {
    "name": "ipython",
    "version": 3
   },
   "file_extension": ".py",
   "mimetype": "text/x-python",
   "name": "python",
   "nbconvert_exporter": "python",
   "pygments_lexer": "ipython3",
   "version": "3.12.9"
  }
 },
 "nbformat": 4,
 "nbformat_minor": 2
}
