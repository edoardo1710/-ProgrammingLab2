{
 "cells": [
  {
   "cell_type": "markdown",
   "metadata": {},
   "source": [
    "# Esercizio 1"
   ]
  },
  {
   "cell_type": "markdown",
   "metadata": {},
   "source": [
    "**Fornire tre esempi di cicli producono una lista e poi riscrivi lo stesso codice usando la list comprehension**"
   ]
  },
  {
   "cell_type": "code",
   "execution_count": 63,
   "metadata": {},
   "outputs": [
    {
     "name": "stdout",
     "output_type": "stream",
     "text": [
      "Lista 1 costruita con ciclo: [0, 1, 2, 3, 4, 5, 6, 7, 8, 9, 10, 11, 12, 13, 14, 15, 16, 17, 18, 19, 20]\n",
      "\n",
      "Lista 1 costruita con list comprehension: [0, 1, 2, 3, 4, 5, 6, 7, 8, 9, 10, 11, 12, 13, 14, 15, 16, 17, 18, 19, 20]\n",
      "\n"
     ]
    }
   ],
   "source": [
    "# Lista di numeri da 0 a 20\n",
    "\n",
    "# Creiamo la lista utilizzando un ciclo 'for'\n",
    "list1_n = []\n",
    "for i in range(0,21):\n",
    "    list1_n.append(i)\n",
    "\n",
    "# Creiamo la lista utilizzando la list comprehension\n",
    "list1_c = [x for x in range(21)]\n",
    "\n",
    "print(f\"Lista 1 costruita con ciclo: {list1_n}\\n\")\n",
    "print(f\"Lista 1 costruita con list comprehension: {list1_c}\\n\")"
   ]
  },
  {
   "cell_type": "code",
   "execution_count": 64,
   "metadata": {},
   "outputs": [
    {
     "name": "stdout",
     "output_type": "stream",
     "text": [
      "Lista 2 costruita con ciclo: [0, 2, 4, 6, 8, 10, 12, 14, 16, 18, 20]\n",
      "\n",
      "Lista 2 costruita con list comprehension: [0, 2, 4, 6, 8, 10, 12, 14, 16, 18, 20]\n",
      "\n"
     ]
    }
   ],
   "source": [
    "# Lista di numeri pari da 0 a 20\n",
    "\n",
    "# Creiamo la lista utilizzando un ciclo 'for'\n",
    "list2_n = []\n",
    "for i in range(0,21):\n",
    "    \n",
    "    if i%2 == 0:\n",
    "        list2_n.append(i)\n",
    "\n",
    "# Creiamo la lista utilizzando la list comprehension\n",
    "list2_c = [x for x in range(21) if x%2 == 0]\n",
    "\n",
    "print(f\"Lista 2 costruita con ciclo: {list2_n}\\n\")\n",
    "print(f\"Lista 2 costruita con list comprehension: {list2_c}\\n\")"
   ]
  },
  {
   "cell_type": "code",
   "execution_count": 65,
   "metadata": {},
   "outputs": [
    {
     "name": "stdout",
     "output_type": "stream",
     "text": [
      "Lista 3 costruita con ciclo: [2, 3, 5, 7, 11, 13, 17, 19, 23, 29, 31, 37, 41, 43, 47, 53, 59, 61, 67, 71, 73, 79, 83, 89, 97]\n",
      "\n",
      "Lista 3 costruita con list comprehension: [2, 3, 5, 7, 11, 13, 17, 19, 23, 29, 31, 37, 41, 43, 47, 53, 59, 61, 67, 71, 73, 79, 83, 89, 97]\n",
      "\n"
     ]
    }
   ],
   "source": [
    "# Lista di numeri primi da 0 a 100\n",
    "\n",
    "def is_prime(n):\n",
    "    \"\"\" Ritorna T se il numero è primo, F altrimenti\n",
    "    \n",
    "    Parametri:\n",
    "        n (int)\n",
    "\n",
    "    Output:\n",
    "        TRUE se 'n' è primo, FALSE altrimenti\n",
    "    \"\"\"\n",
    "    if (n == 0) or (n == 1):\n",
    "        return False\n",
    "    elif (n == 2) or (n == 3) or (n == 5) or (n == 7):\n",
    "        return True\n",
    "    else:\n",
    "\n",
    "        for i in range(2,int(n/2)+1):\n",
    "\n",
    "            if (n % i == 0):\n",
    "                return False\n",
    "        \n",
    "    return True\n",
    "\n",
    "# Creiamo la lista utilizzando un ciclo 'for'\n",
    "list3_n = []\n",
    "for i in range(101):\n",
    "\n",
    "    if is_prime(i):\n",
    "        list3_n.append(i)\n",
    "\n",
    "# Creiamo la lista utilizzando la list comprehension\n",
    "list3_c = [x for x in range(101) if is_prime(x)]\n",
    "\n",
    "print(f\"Lista 3 costruita con ciclo: {list3_n}\\n\")\n",
    "print(f\"Lista 3 costruita con list comprehension: {list3_c}\\n\")\n"
   ]
  },
  {
   "cell_type": "markdown",
   "metadata": {},
   "source": [
    "# Esercizio 2"
   ]
  },
  {
   "cell_type": "markdown",
   "metadata": {},
   "source": [
    "**Creazione e operazioni su un array di numeri primi**"
   ]
  },
  {
   "cell_type": "code",
   "execution_count": 66,
   "metadata": {},
   "outputs": [
    {
     "name": "stdout",
     "output_type": "stream",
     "text": [
      "Array: [2 3 5 7]\n"
     ]
    }
   ],
   "source": [
    "# Creazione array contenente i numeri primi compresi tra 0 e 10\n",
    "\n",
    "# Importiamo il modulo Nunpy\n",
    "import numpy as np\n",
    "\n",
    "# Creazione lista contenente i numeri primi compresi tra 0 e 10 riutilizzando la funzione 'is_prime' dell'esercizio precedente\n",
    "prime_list = [x for x in range(11) if is_prime(x)]\n",
    "\n",
    "# Creazione array dalla lista\n",
    "prime_array = np.array(prime_list)\n",
    "\n",
    "print(f\"Array: {prime_array}\")"
   ]
  },
  {
   "cell_type": "code",
   "execution_count": 67,
   "metadata": {},
   "outputs": [
    {
     "name": "stdout",
     "output_type": "stream",
     "text": [
      "L'array contiene 4 elementi\n",
      "L'array contiene 4 elementi\n"
     ]
    }
   ],
   "source": [
    "# Conta di quanti numeri ci sono in 'prime_array'\n",
    "\n",
    "# Primo metodo: utilizziamo la funzione 'len()'\n",
    "print(f\"L'array contiene {len(prime_array)} elementi\")\n",
    "\n",
    "# Secondo metodo: accediamo all'attributo '.size'\n",
    "print(f\"L'array contiene {prime_array.size} elementi\")"
   ]
  },
  {
   "cell_type": "code",
   "execution_count": 68,
   "metadata": {},
   "outputs": [
    {
     "name": "stdout",
     "output_type": "stream",
     "text": [
      "Il tipo di dato è int64\n"
     ]
    }
   ],
   "source": [
    "# Controllo del tipo di dato di 'prime_array'\n",
    "print(f\"Il tipo di dato è {prime_array.dtype}\")"
   ]
  },
  {
   "cell_type": "markdown",
   "metadata": {},
   "source": [
    "# Esercizio 3"
   ]
  },
  {
   "cell_type": "markdown",
   "metadata": {},
   "source": [
    "**Operazioni su array**"
   ]
  },
  {
   "cell_type": "code",
   "execution_count": 69,
   "metadata": {},
   "outputs": [
    {
     "name": "stdout",
     "output_type": "stream",
     "text": [
      "L'array 'a' è: [91 35 74 12 65 10 82  5 11 88]\n"
     ]
    }
   ],
   "source": [
    "# Creiamo un array che chiameremo 'a' contenente 10 numeri causali tra 0 e 100\n",
    "\n",
    "# Creiamo l'array\n",
    "a = np.random.randint(0, 100, size=10) \n",
    "\n",
    "print(f\"L'array 'a' è: {a}\")"
   ]
  },
  {
   "cell_type": "code",
   "execution_count": 70,
   "metadata": {},
   "outputs": [
    {
     "name": "stdout",
     "output_type": "stream",
     "text": [
      "L'array 'b' è: ciao\n"
     ]
    }
   ],
   "source": [
    "# Creiamo un array che chiameremo 'b' contenente una sottotringa\n",
    "\n",
    "# Inseriamo la sottostringa da input\n",
    "s = input(\"Inserire una sottostringa a piacere :\")\n",
    "\n",
    "# Creiamo l'array\n",
    "b = np.array(s)\n",
    "\n",
    "print(f\"L'array 'b' è: {b}\")"
   ]
  },
  {
   "cell_type": "code",
   "execution_count": 71,
   "metadata": {},
   "outputs": [
    {
     "name": "stdout",
     "output_type": "stream",
     "text": [
      "L'array 'c' è: [88 11  5 82 10 65 12 74 35 91]\n"
     ]
    }
   ],
   "source": [
    "# Creiamo un array che chiameremo 'c' contenente gli elementi di 'a' invertiti\n",
    "\n",
    "# Creiamo l'array utilizzando la funzione '.flip'\n",
    "c = np.flip(a)\n",
    "\n",
    "print(f\"L'array 'c' è: {c}\")"
   ]
  }
 ],
 "metadata": {
  "kernelspec": {
   "display_name": "mio_ambiente",
   "language": "python",
   "name": "python3"
  },
  "language_info": {
   "codemirror_mode": {
    "name": "ipython",
    "version": 3
   },
   "file_extension": ".py",
   "mimetype": "text/x-python",
   "name": "python",
   "nbconvert_exporter": "python",
   "pygments_lexer": "ipython3",
   "version": "3.12.9"
  }
 },
 "nbformat": 4,
 "nbformat_minor": 2
}
