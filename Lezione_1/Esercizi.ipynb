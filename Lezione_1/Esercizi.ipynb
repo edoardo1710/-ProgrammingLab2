{
 "cells": [
  {
   "cell_type": "markdown",
   "metadata": {},
   "source": [
    "# Esercizio 1"
   ]
  },
  {
   "cell_type": "markdown",
   "metadata": {},
   "source": [
    "**Fornire tre esempi di cicli producono una lista e poi riscrivi lo stesso codice usando la list comprehension**"
   ]
  },
  {
   "cell_type": "code",
   "execution_count": 12,
   "metadata": {},
   "outputs": [
    {
     "name": "stdout",
     "output_type": "stream",
     "text": [
      "Lista 1 costruita con ciclo: [0, 1, 2, 3, 4, 5, 6, 7, 8, 9, 10, 11, 12, 13, 14, 15, 16, 17, 18, 19, 20]\n",
      "\n",
      "Lista 1 costruita con list comprehension: [0, 1, 2, 3, 4, 5, 6, 7, 8, 9, 10, 11, 12, 13, 14, 15, 16, 17, 18, 19, 20]\n",
      "\n"
     ]
    }
   ],
   "source": [
    "# Lista di numeri da 0 a 20\n",
    "\n",
    "# Creiamo la lista utilizzando un ciclo 'for'\n",
    "list1_n = []\n",
    "for i in range(0,21):\n",
    "    list1_n.append(i)\n",
    "\n",
    "# Creiamo la lista utilizzando la list comprehension\n",
    "list1_c = [x for x in range(21)]\n",
    "\n",
    "print(f\"Lista 1 costruita con ciclo: {list1_n}\\n\")\n",
    "print(f\"Lista 1 costruita con list comprehension: {list1_c}\\n\")"
   ]
  },
  {
   "cell_type": "code",
   "execution_count": 13,
   "metadata": {},
   "outputs": [
    {
     "name": "stdout",
     "output_type": "stream",
     "text": [
      "Lista 2 costruita con ciclo: [0, 2, 4, 6, 8, 10, 12, 14, 16, 18, 20]\n",
      "\n",
      "Lista 2 costruita con list comprehension: [0, 2, 4, 6, 8, 10, 12, 14, 16, 18, 20]\n",
      "\n"
     ]
    }
   ],
   "source": [
    "# Lista di numeri pari da 0 a 20\n",
    "\n",
    "# Creiamo la lista utilizzando un ciclo 'for'\n",
    "list2_n = []\n",
    "for i in range(0,21):\n",
    "    \n",
    "    if i%2 == 0:\n",
    "        list2_n.append(i)\n",
    "\n",
    "# Creiamo la lista utilizzando la list comprehension\n",
    "list2_c = [x for x in range(21) if x%2 == 0]\n",
    "\n",
    "print(f\"Lista 2 costruita con ciclo: {list2_n}\\n\")\n",
    "print(f\"Lista 2 costruita con list comprehension: {list2_c}\\n\")"
   ]
  },
  {
   "cell_type": "code",
   "execution_count": 14,
   "metadata": {},
   "outputs": [
    {
     "name": "stdout",
     "output_type": "stream",
     "text": [
      "Lista 3 costruita con ciclo: [2, 3, 5, 7, 11, 13, 17, 19, 23, 29, 31, 37, 41, 43, 47, 53, 59, 61, 67, 71, 73, 79, 83, 89, 97]\n",
      "\n",
      "Lista 3 costruita con list comprehension: [2, 3, 5, 7, 11, 13, 17, 19, 23, 29, 31, 37, 41, 43, 47, 53, 59, 61, 67, 71, 73, 79, 83, 89, 97]\n",
      "\n"
     ]
    }
   ],
   "source": [
    "# Lista di numeri primi da 0 a 100\n",
    "\n",
    "def is_prime(n):\n",
    "    \"\"\" Ritorna T se il numero è primo, F altrimenti\n",
    "    \n",
    "    Parametri:\n",
    "        n (int)\n",
    "\n",
    "    Output:\n",
    "        TRUE se 'n' è primo, FALSE altrimenti\n",
    "    \"\"\"\n",
    "    if (n == 0) or (n == 1):\n",
    "        return False\n",
    "    elif (n == 2) or (n == 3) or (n == 5) or (n == 7):\n",
    "        return True\n",
    "    else:\n",
    "\n",
    "        for i in range(2,int(n/2)+1):\n",
    "\n",
    "            if (n % i == 0):\n",
    "                return False\n",
    "        \n",
    "    return True\n",
    "\n",
    "# Creiamo la lista utilizzando un ciclo 'for'\n",
    "list3_n = []\n",
    "for i in range(101):\n",
    "\n",
    "    if is_prime(i):\n",
    "        list3_n.append(i)\n",
    "\n",
    "# Creiamo la lista utilizzando la list comprehension\n",
    "list3_c = [x for x in range(101) if is_prime(x)]\n",
    "\n",
    "print(f\"Lista 3 costruita con ciclo: {list3_n}\\n\")\n",
    "print(f\"Lista 3 costruita con list comprehension: {list3_c}\\n\")\n"
   ]
  },
  {
   "cell_type": "markdown",
   "metadata": {},
   "source": [
    "# Esercizio 2"
   ]
  },
  {
   "cell_type": "markdown",
   "metadata": {},
   "source": [
    "**Creazione e operazioni su un array di numeri primi**"
   ]
  },
  {
   "cell_type": "code",
   "execution_count": 15,
   "metadata": {},
   "outputs": [
    {
     "name": "stdout",
     "output_type": "stream",
     "text": [
      "Array: [2 3 5 7]\n"
     ]
    }
   ],
   "source": [
    "# Creazione array contenente i numeri primi compresi tra 0 e 10\n",
    "\n",
    "# Importiamo il modulo Numpy\n",
    "import numpy as np\n",
    "\n",
    "# Creazione lista contenente i numeri primi compresi tra 0 e 10 riutilizzando la funzione 'is_prime' dell'esercizio precedente\n",
    "prime_list = [x for x in range(11) if is_prime(x)]\n",
    "\n",
    "# Creazione array dalla lista\n",
    "prime_array = np.array(prime_list)\n",
    "\n",
    "print(f\"Array: {prime_array}\")"
   ]
  },
  {
   "cell_type": "code",
   "execution_count": 16,
   "metadata": {},
   "outputs": [
    {
     "name": "stdout",
     "output_type": "stream",
     "text": [
      "L'array contiene 4 elementi\n",
      "L'array contiene 4 elementi\n"
     ]
    }
   ],
   "source": [
    "# Conta di quanti numeri ci sono in 'prime_array'\n",
    "\n",
    "# Primo metodo: utilizziamo la funzione 'len()'\n",
    "print(f\"L'array contiene {len(prime_array)} elementi\")\n",
    "\n",
    "# Secondo metodo: accediamo all'attributo '.size'\n",
    "print(f\"L'array contiene {prime_array.size} elementi\")"
   ]
  },
  {
   "cell_type": "code",
   "execution_count": 17,
   "metadata": {},
   "outputs": [
    {
     "name": "stdout",
     "output_type": "stream",
     "text": [
      "Il tipo di dato è int64\n"
     ]
    }
   ],
   "source": [
    "# Controllo del tipo di dato di 'prime_array'\n",
    "print(f\"Il tipo di dato è {prime_array.dtype}\")"
   ]
  },
  {
   "cell_type": "markdown",
   "metadata": {},
   "source": [
    "# Esercizio 3"
   ]
  },
  {
   "cell_type": "markdown",
   "metadata": {},
   "source": [
    "**Operazioni su array**"
   ]
  },
  {
   "cell_type": "code",
   "execution_count": 18,
   "metadata": {},
   "outputs": [
    {
     "name": "stdout",
     "output_type": "stream",
     "text": [
      "L'array 'a' è: [96 88 11 13 63 11 37 24 89 22]\n"
     ]
    }
   ],
   "source": [
    "# Creiamo un array che chiameremo 'a' contenente 10 numeri causali tra 0 e 100\n",
    "\n",
    "# Creiamo l'array\n",
    "a = np.random.randint(1, 100, size=10) \n",
    "\n",
    "print(f\"L'array 'a' è: {a}\")"
   ]
  },
  {
   "cell_type": "code",
   "execution_count": 19,
   "metadata": {},
   "outputs": [
    {
     "name": "stdout",
     "output_type": "stream",
     "text": [
      "L'array 'b' è: ciao\n"
     ]
    }
   ],
   "source": [
    "# Creiamo un array che chiameremo 'b' contenente una sottotringa\n",
    "\n",
    "# Inseriamo la sottostringa da input\n",
    "s = input(\"Inserire una sottostringa a piacere :\")\n",
    "\n",
    "# Creiamo l'array\n",
    "b = np.array(s)\n",
    "\n",
    "print(f\"L'array 'b' è: {b}\")"
   ]
  },
  {
   "cell_type": "code",
   "execution_count": 20,
   "metadata": {},
   "outputs": [
    {
     "name": "stdout",
     "output_type": "stream",
     "text": [
      "L'array 'c' è: [22 89 24 37 11 63 13 11 88 96]\n"
     ]
    }
   ],
   "source": [
    "# Creiamo un array che chiameremo 'c' contenente gli elementi di 'a' invertiti\n",
    "\n",
    "# Creiamo l'array utilizzando la funzione '.flip'\n",
    "c = np.flip(a)\n",
    "\n",
    "print(f\"L'array 'c' è: {c}\")"
   ]
  },
  {
   "cell_type": "code",
   "execution_count": 41,
   "metadata": {},
   "outputs": [
    {
     "name": "stdout",
     "output_type": "stream",
     "text": [
      "La divisione ha dato come risultato l'array [4.36 0.99 0.46 0.35 5.73 0.17 2.85 2.18 1.01 0.23]\n",
      "La divisione ha dato come risultato la lista [0.71, 0.28, 1.49, 0.69, 0.98, 2.87, 0.81, 0.06, 0.46, 1.48, 0.06]\n"
     ]
    }
   ],
   "source": [
    "# Dividiamo l'array 'a' per l'array 'c'\n",
    "\n",
    "print(f\"La divisione ha dato come risultato l'array {np.round(a / c, 2)}\")\n",
    "\n",
    "# Dividiamo tra di loro due liste causali 'j' e 't'\n",
    "\n",
    "# Importiamo il modulo 'random'\n",
    "import random\n",
    "\n",
    "# Creazione delle liste tramite list comprehension\n",
    "j = [random.randint(1, 100) for x in range(11)]\n",
    "t = [random.randint(1, 100) for x in range(11)]\n",
    "\n",
    "# La lista 'res' conterrà al suo interno il risultato della divisione tra gli elementi delle due liste\n",
    "res = []\n",
    "for i in range(11):\n",
    "    res.append(round(j[i] / t[i], 2))\n",
    "\n",
    "print(f\"La divisione ha dato come risultato la lista {res}\")"
   ]
  }
 ],
 "metadata": {
  "kernelspec": {
   "display_name": "mio_ambiente",
   "language": "python",
   "name": "python3"
  },
  "language_info": {
   "codemirror_mode": {
    "name": "ipython",
    "version": 3
   },
   "file_extension": ".py",
   "mimetype": "text/x-python",
   "name": "python",
   "nbconvert_exporter": "python",
   "pygments_lexer": "ipython3",
   "version": "3.12.9"
  }
 },
 "nbformat": 4,
 "nbformat_minor": 2
}
