{
 "cells": [
  {
   "cell_type": "markdown",
   "metadata": {},
   "source": [
    "# Esercizio 1"
   ]
  },
  {
   "cell_type": "markdown",
   "metadata": {},
   "source": [
    "**Consumo di alcol per paese**"
   ]
  },
  {
   "cell_type": "code",
   "execution_count": 2,
   "metadata": {},
   "outputs": [
    {
     "name": "stdout",
     "output_type": "stream",
     "text": [
      "         country  beer_servings  spirit_servings  wine_servings  \\\n",
      "0    Afghanistan              0                0              0   \n",
      "1        Albania             89              132             54   \n",
      "2        Algeria             25                0             14   \n",
      "3        Andorra            245              138            312   \n",
      "4         Angola            217               57             45   \n",
      "..           ...            ...              ...            ...   \n",
      "188    Venezuela            333              100              3   \n",
      "189      Vietnam            111                2              1   \n",
      "190        Yemen              6                0              0   \n",
      "191       Zambia             32               19              4   \n",
      "192     Zimbabwe             64               18              4   \n",
      "\n",
      "     total_litres_of_pure_alcohol  \n",
      "0                             0.0  \n",
      "1                             4.9  \n",
      "2                             0.7  \n",
      "3                            12.4  \n",
      "4                             5.9  \n",
      "..                            ...  \n",
      "188                           7.7  \n",
      "189                           2.0  \n",
      "190                           0.1  \n",
      "191                           2.5  \n",
      "192                           4.7  \n",
      "\n",
      "[193 rows x 5 columns]\n"
     ]
    }
   ],
   "source": [
    "# Carichiamo il DataFrame\n",
    "\n",
    "# Importiamo il modulo 'pandas'\n",
    "import pandas as pd\n",
    "\n",
    "# Importiamo il DataFrame\n",
    "df = pd.read_csv(\"https://raw.githubusercontent.com/fivethirtyeight/data/master/alcohol-consumption/drinks.csv\")\n",
    "print(df)"
   ]
  },
  {
   "cell_type": "code",
   "execution_count": 5,
   "metadata": {},
   "outputs": [
    {
     "name": "stdout",
     "output_type": "stream",
     "text": [
      "           country  total_litres_of_pure_alcohol\n",
      "           Belarus                          14.4\n",
      "         Lithuania                          12.9\n",
      "           Andorra                          12.4\n",
      "           Grenada                          11.9\n",
      "            France                          11.8\n",
      "    Czech Republic                          11.8\n",
      "Russian Federation                          11.5\n",
      "        Luxembourg                          11.4\n",
      "          Slovakia                          11.4\n",
      "           Ireland                          11.4\n"
     ]
    }
   ],
   "source": [
    "# Visualizziamo i primi 10 paesi ordinati per total_litres_of_pure_alcohol (dal più alto)\n",
    "\n",
    "# Utilizziamo il metodo 'sort_values' e salviamo i primi 10 elementi\n",
    "top_10 = df.sort_values(by='total_litres_of_pure_alcohol', ascending=False)[['country', 'total_litres_of_pure_alcohol']].head(10)\n",
    "\n",
    "# Stampare il risultato\n",
    "print(top_10.to_string(index=False)) "
   ]
  },
  {
   "cell_type": "code",
   "execution_count": 24,
   "metadata": {},
   "outputs": [
    {
     "name": "stdout",
     "output_type": "stream",
     "text": [
      "Il valore medio di consumo di birra è di 106.16062176165804 birre\n",
      "Il valore medio di consumo di distillati è di 80.99481865284974 distillati\n",
      "Il valore medio di consumo di vino è di 49.45077720207254 bottiglie\n"
     ]
    }
   ],
   "source": [
    "# Calcoliamo la media del consumo di birra, vino, e distillati\n",
    "\n",
    "# Utilizziamo il metodo 'mean'\n",
    "print(f\"Il valore medio di consumo di birra è di {df['beer_servings'].mean()} birre\")\n",
    "print(f\"Il valore medio di consumo di distillati è di {df['spirit_servings'].mean()} distillati\")\n",
    "print(f\"Il valore medio di consumo di vino è di {df['wine_servings'].mean()} bottiglie\")"
   ]
  },
  {
   "cell_type": "code",
   "execution_count": null,
   "metadata": {},
   "outputs": [
    {
     "name": "stdout",
     "output_type": "stream",
     "text": [
      "         country  beer_servings  spirit_servings  wine_servings  \\\n",
      "0    Afghanistan              0                0              0   \n",
      "1        Albania             89              132             54   \n",
      "2        Algeria             25                0             14   \n",
      "3        Andorra            245              138            312   \n",
      "4         Angola            217               57             45   \n",
      "..           ...            ...              ...            ...   \n",
      "188    Venezuela            333              100              3   \n",
      "189      Vietnam            111                2              1   \n",
      "190        Yemen              6                0              0   \n",
      "191       Zambia             32               19              4   \n",
      "192     Zimbabwe             64               18              4   \n",
      "\n",
      "     total_litres_of_pure_alcohol  alcohol_index  \n",
      "0                             0.0              0  \n",
      "1                             4.9             91  \n",
      "2                             0.7             13  \n",
      "3                            12.4            231  \n",
      "4                             5.9            106  \n",
      "..                            ...            ...  \n",
      "188                           7.7            145  \n",
      "189                           2.0             38  \n",
      "190                           0.1              2  \n",
      "191                           2.5             18  \n",
      "192                           4.7             28  \n",
      "\n",
      "[193 rows x 6 columns]\n"
     ]
    }
   ],
   "source": [
    "# Creiamo una nuova colonna alcohol_index che sia: (beer_servings + wine_servings + spirit_servings) / 3\n",
    "\n",
    "# Aggiungiamo la nuova colonna\n",
    "df['alcohol_index'] = ((df.beer_servings + df.wine_servings + df.spirit_servings) / 3).astype(int)\n",
    "print(df)"
   ]
  },
  {
   "cell_type": "code",
   "execution_count": 19,
   "metadata": {},
   "outputs": [
    {
     "name": "stdout",
     "output_type": "stream",
     "text": [
      "country  total_litres_of_pure_alcohol\n",
      "Andorra                          12.4\n"
     ]
    }
   ],
   "source": [
    "# Troviamo il paese con il valore massimo di alcohol_index\n",
    "\n",
    "# Riutilizziamo il metodo 'sort_values'\n",
    "last = df.sort_values(by='alcohol_index', ascending=False)[['country', 'total_litres_of_pure_alcohol']].head(1)\n",
    "print(last.to_string(index=False))"
   ]
  },
  {
   "cell_type": "code",
   "execution_count": null,
   "metadata": {},
   "outputs": [
    {
     "name": "stdout",
     "output_type": "stream",
     "text": [
      "               country  beer_servings  spirit_servings  wine_servings  \\\n",
      "3              Andorra            245              138            312   \n",
      "4               Angola            217               57             45   \n",
      "5    Antigua & Barbuda            102              128             45   \n",
      "6            Argentina            193               25            221   \n",
      "8            Australia            261               72            212   \n",
      "..                 ...            ...              ...            ...   \n",
      "182     United Kingdom            219              126            195   \n",
      "184                USA            249              158             84   \n",
      "185            Uruguay            115               35            220   \n",
      "188          Venezuela            333              100              3   \n",
      "189            Vietnam            111                2              1   \n",
      "\n",
      "     total_litres_of_pure_alcohol  alcohol_index  \n",
      "3                            12.4            231  \n",
      "4                             5.9            106  \n",
      "5                             4.9             91  \n",
      "6                             8.3            146  \n",
      "8                            10.4            181  \n",
      "..                            ...            ...  \n",
      "182                          10.4            180  \n",
      "184                           8.7            163  \n",
      "185                           6.6            123  \n",
      "188                           7.7            145  \n",
      "189                           2.0             38  \n",
      "\n",
      "[79 rows x 6 columns]\n"
     ]
    }
   ],
   "source": [
    "# Filtriamo solo i paesi che consumano più di 100 birre all’anno\n",
    "\n",
    "# Imponiamo la condizione\n",
    "print(df[df['beer_servings'] > 100])"
   ]
  },
  {
   "cell_type": "code",
   "execution_count": 2,
   "metadata": {},
   "outputs": [
    {
     "ename": "AttributeError",
     "evalue": "module 'matplotlib' has no attribute 'barh'",
     "output_type": "error",
     "traceback": [
      "\u001b[31m---------------------------------------------------------------------------\u001b[39m",
      "\u001b[31mAttributeError\u001b[39m                            Traceback (most recent call last)",
      "\u001b[36mCell\u001b[39m\u001b[36m \u001b[39m\u001b[32mIn[2]\u001b[39m\u001b[32m, line 3\u001b[39m\n\u001b[32m      1\u001b[39m \u001b[38;5;28;01mimport\u001b[39;00m\u001b[38;5;250m \u001b[39m\u001b[34;01mmatplotlib\u001b[39;00m\u001b[38;5;250m \u001b[39m\u001b[38;5;28;01mas\u001b[39;00m\u001b[38;5;250m \u001b[39m\u001b[34;01mplt\u001b[39;00m\n\u001b[32m----> \u001b[39m\u001b[32m3\u001b[39m \u001b[43mplt\u001b[49m\u001b[43m.\u001b[49m\u001b[43mbarh\u001b[49m(top_10.index, top_10.index)\n",
      "\u001b[36mFile \u001b[39m\u001b[32m~/miniconda3/envs/mio_ambiente/lib/python3.12/site-packages/matplotlib/_api/__init__.py:218\u001b[39m, in \u001b[36mcaching_module_getattr.<locals>.__getattr__\u001b[39m\u001b[34m(name)\u001b[39m\n\u001b[32m    216\u001b[39m \u001b[38;5;28;01mif\u001b[39;00m name \u001b[38;5;129;01min\u001b[39;00m props:\n\u001b[32m    217\u001b[39m     \u001b[38;5;28;01mreturn\u001b[39;00m props[name].\u001b[34m__get__\u001b[39m(instance)\n\u001b[32m--> \u001b[39m\u001b[32m218\u001b[39m \u001b[38;5;28;01mraise\u001b[39;00m \u001b[38;5;167;01mAttributeError\u001b[39;00m(\n\u001b[32m    219\u001b[39m     \u001b[33mf\u001b[39m\u001b[33m\"\u001b[39m\u001b[33mmodule \u001b[39m\u001b[38;5;132;01m{\u001b[39;00m\u001b[38;5;28mcls\u001b[39m.\u001b[34m__module__\u001b[39m\u001b[38;5;132;01m!r}\u001b[39;00m\u001b[33m has no attribute \u001b[39m\u001b[38;5;132;01m{\u001b[39;00mname\u001b[38;5;132;01m!r}\u001b[39;00m\u001b[33m\"\u001b[39m)\n",
      "\u001b[31mAttributeError\u001b[39m: module 'matplotlib' has no attribute 'barh'"
     ]
    }
   ],
   "source": [
    "import matplotlib as plt\n",
    "\n",
    "plt.barh(top_10.index, top_10.index)"
   ]
  }
 ],
 "metadata": {
  "kernelspec": {
   "display_name": "mio_ambiente",
   "language": "python",
   "name": "python3"
  },
  "language_info": {
   "codemirror_mode": {
    "name": "ipython",
    "version": 3
   },
   "file_extension": ".py",
   "mimetype": "text/x-python",
   "name": "python",
   "nbconvert_exporter": "python",
   "pygments_lexer": "ipython3",
   "version": "3.12.9"
  }
 },
 "nbformat": 4,
 "nbformat_minor": 2
}
